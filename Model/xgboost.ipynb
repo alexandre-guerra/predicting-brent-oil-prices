{
 "cells": [
  {
   "cell_type": "code",
   "execution_count": 2,
   "metadata": {},
   "outputs": [
    {
     "name": "stderr",
     "output_type": "stream",
     "text": [
      "C:\\Users\\alexandre\\AppData\\Local\\Temp\\ipykernel_27916\\729852720.py:16: SettingWithCopyWarning: \n",
      "A value is trying to be set on a copy of a slice from a DataFrame\n",
      "\n",
      "See the caveats in the documentation: https://pandas.pydata.org/pandas-docs/stable/user_guide/indexing.html#returning-a-view-versus-a-copy\n",
      "  df.rename(columns={'Date': 'ds', 'Close': 'y'}, inplace=True)\n",
      "C:\\Users\\alexandre\\AppData\\Local\\Temp\\ipykernel_27916\\729852720.py:19: SettingWithCopyWarning: \n",
      "A value is trying to be set on a copy of a slice from a DataFrame.\n",
      "Try using .loc[row_indexer,col_indexer] = value instead\n",
      "\n",
      "See the caveats in the documentation: https://pandas.pydata.org/pandas-docs/stable/user_guide/indexing.html#returning-a-view-versus-a-copy\n",
      "  df['year'] = df['ds'].dt.year\n",
      "C:\\Users\\alexandre\\AppData\\Local\\Temp\\ipykernel_27916\\729852720.py:20: SettingWithCopyWarning: \n",
      "A value is trying to be set on a copy of a slice from a DataFrame.\n",
      "Try using .loc[row_indexer,col_indexer] = value instead\n",
      "\n",
      "See the caveats in the documentation: https://pandas.pydata.org/pandas-docs/stable/user_guide/indexing.html#returning-a-view-versus-a-copy\n",
      "  df['month'] = df['ds'].dt.month\n",
      "C:\\Users\\alexandre\\AppData\\Local\\Temp\\ipykernel_27916\\729852720.py:21: SettingWithCopyWarning: \n",
      "A value is trying to be set on a copy of a slice from a DataFrame.\n",
      "Try using .loc[row_indexer,col_indexer] = value instead\n",
      "\n",
      "See the caveats in the documentation: https://pandas.pydata.org/pandas-docs/stable/user_guide/indexing.html#returning-a-view-versus-a-copy\n",
      "  df['day'] = df['ds'].dt.day\n",
      "C:\\Users\\alexandre\\AppData\\Local\\Temp\\ipykernel_27916\\729852720.py:22: SettingWithCopyWarning: \n",
      "A value is trying to be set on a copy of a slice from a DataFrame.\n",
      "Try using .loc[row_indexer,col_indexer] = value instead\n",
      "\n",
      "See the caveats in the documentation: https://pandas.pydata.org/pandas-docs/stable/user_guide/indexing.html#returning-a-view-versus-a-copy\n",
      "  df['dayofweek'] = df['ds'].dt.dayofweek\n"
     ]
    },
    {
     "name": "stdout",
     "output_type": "stream",
     "text": [
      "Mean Absolute Percentage Error (MAPE): 0.02%\n",
      "Root Mean Squared Error (RMSE): 1.85\n",
      "Mean Absolute Error (MAE): 1.27\n"
     ]
    },
    {
     "data": {
      "image/png": "[encoded data removed]",
      "text/plain": [
       "<Figure size 1000x600 with 1 Axes>"
      ]
     },
     "metadata": {},
     "output_type": "display_data"
    }
   ],
   "source": [
    "import yfinance as yf\n",
    "import pandas as pd\n",
    "import numpy as np\n",
    "from xgboost import XGBRegressor\n",
    "from sklearn.model_selection import train_test_split\n",
    "from sklearn.metrics import mean_absolute_percentage_error, mean_squared_error, mean_absolute_error\n",
    "import matplotlib.pyplot as plt\n",
    "\n",
    "# Obter dados históricos do petróleo Brent\n",
    "ticker = 'BZ=F'\n",
    "df = yf.download(ticker, start='1987-01-01', end='2024-05-17', progress=False)\n",
    "\n",
    "# Preparar os dados\n",
    "df.reset_index(inplace=True)\n",
    "df = df[['Date', 'Close']]\n",
    "df.rename(columns={'Date': 'ds', 'Close': 'y'}, inplace=True)\n",
    "\n",
    "# Criar recursos adicionais (features)\n",
    "df['year'] = df['ds'].dt.year\n",
    "df['month'] = df['ds'].dt.month\n",
    "df['day'] = df['ds'].dt.day\n",
    "df['dayofweek'] = df['ds'].dt.dayofweek\n",
    "\n",
    "# Lag features (preços anteriores)\n",
    "df['lag1'] = df['y'].shift(1)\n",
    "df['lag2'] = df['y'].shift(2)\n",
    "df['lag3'] = df['y'].shift(3)\n",
    "df['lag7'] = df['y'].shift(7)\n",
    "\n",
    "# Remover linhas com valores nulos (devido ao shift)\n",
    "df.dropna(inplace=True)\n",
    "\n",
    "# Dividir os dados em treino e teste\n",
    "X = df[['year', 'month', 'day', 'dayofweek', 'lag1', 'lag2', 'lag3', 'lag7']]\n",
    "y = df['y']\n",
    "X_train, X_test, y_train, y_test = train_test_split(X, y, test_size=0.2, random_state=0)\n",
    "\n",
    "# Treinar o modelo XGBoost\n",
    "model = XGBRegressor(n_estimators=1000, learning_rate=0.01, max_depth=6, random_state=0)\n",
    "model.fit(X_train, y_train)\n",
    "\n",
    "# Fazer previsões\n",
    "y_pred = model.predict(X_test)\n",
    "\n",
    "# Calcular MAPE\n",
    "mape = mean_absolute_percentage_error(y_test, y_pred)\n",
    "print(f\"Mean Absolute Percentage Error (MAPE): {mape:.2f}%\")\n",
    "\n",
    "# Calcular RMSE\n",
    "rmse = np.sqrt(mean_squared_error(y_test, y_pred))\n",
    "print(f\"Root Mean Squared Error (RMSE): {rmse:.2f}\")\n",
    "\n",
    "# Calcular MAE\n",
    "mae = mean_absolute_error(y_test, y_pred)\n",
    "print(f\"Mean Absolute Error (MAE): {mae:.2f}\")\n",
    "\n",
    "# Função para gerar previsões para os próximos 7 dias\n",
    "def forecast_next_days(model, df, days=7):\n",
    "    last_row = df.iloc[-1]\n",
    "    forecast_dates = pd.date_range(start=last_row['ds'], periods=days+1)[1:]\n",
    "    forecast_df = pd.DataFrame({'ds': forecast_dates})\n",
    "    forecast_df['year'] = forecast_df['ds'].dt.year\n",
    "    forecast_df['month'] = forecast_df['ds'].dt.month\n",
    "    forecast_df['day'] = forecast_df['ds'].dt.day\n",
    "    forecast_df['dayofweek'] = forecast_df['ds'].dt.dayofweek\n",
    "\n",
    "    forecasts = []\n",
    "    last_values = last_row[['y', 'lag1', 'lag2', 'lag3', 'lag7']].values.flatten()\n",
    "\n",
    "    for i in range(days):\n",
    "        features = np.array([\n",
    "            forecast_df.loc[i, 'year'],\n",
    "            forecast_df.loc[i, 'month'],\n",
    "            forecast_df.loc[i, 'day'],\n",
    "            forecast_df.loc[i, 'dayofweek'],\n",
    "            last_values[0],  # lag1\n",
    "            last_values[1],  # lag2\n",
    "            last_values[2],  # lag3\n",
    "            last_values[3]   # lag7\n",
    "        ]).reshape(1, -1)\n",
    "        \n",
    "        yhat = model.predict(features)[0]\n",
    "        forecasts.append(yhat)\n",
    "        \n",
    "        # Atualizar lag values\n",
    "        last_values = np.roll(last_values, 1)\n",
    "        last_values[0] = yhat\n",
    "    \n",
    "    forecast_df['yhat'] = forecasts\n",
    "    return forecast_df\n",
    "\n",
    "# Gerar previsões para os próximos 7 dias com base nos últimos valores reais do dataset\n",
    "forecast_df = forecast_next_days(model, df)\n",
    "\n",
    "# Plotar os resultados, focando nos últimos 20 dias e incluindo as previsões de 7 dias\n",
    "plt.figure(figsize=(10, 6))\n",
    "plt.plot(df['ds'], df['y'], label='Valores Reais')\n",
    "plt.plot(forecast_df['ds'], forecast_df['yhat'], label='Previsões de 7 dias', linestyle='dashed')\n",
    "plt.legend()\n",
    "\n",
    "# Focar nos últimos 20 dias incluindo as previsões\n",
    "plt.xlim(df['ds'].iloc[-20], forecast_df['ds'].iloc[-1])\n",
    "plt.show()\n"
   ]
  },
  {
   "cell_type": "code",
   "execution_count": 3,
   "metadata": {},
   "outputs": [
    {
     "data": {
      "text/plain": [
       "['../Files/xgboost_model.pkl']"
      ]
     },
     "execution_count": 3,
     "metadata": {},
     "output_type": "execute_result"
    }
   ],
   "source": [
    "import joblib\n",
    "joblib.dump(model, '../Files/xgboost_model.pkl')"
   ]
  }
 ],
 "metadata": {
  "kernelspec": {
   "display_name": "Python 3",
   "language": "python",
   "name": "python3"
  },
  "language_info": {
   "codemirror_mode": {
    "name": "ipython",
    "version": 3
   },
   "file_extension": ".py",
   "mimetype": "text/x-python",
   "name": "python",
   "nbconvert_exporter": "python",
   "pygments_lexer": "ipython3",
   "version": "3.10.11"
  }
 },
 "nbformat": 4,
 "nbformat_minor": 2
}
